{
  "nbformat": 4,
  "nbformat_minor": 0,
  "metadata": {
    "colab": {
      "name": "carson_supremo.ipynb",
      "provenance": [],
      "collapsed_sections": []
    },
    "kernelspec": {
      "name": "python3",
      "display_name": "Python 3"
    }
  },
  "cells": [
    {
      "cell_type": "code",
      "metadata": {
        "id": "DnaUJS7__Z4Z"
      },
      "source": [
        "import numpy as np\n",
        "import matplotlib.pyplot as plt\n"
      ],
      "execution_count": null,
      "outputs": []
    },
    {
      "cell_type": "code",
      "metadata": {
        "id": "EJ0RTcBf_dIS",
        "colab": {
          "base_uri": "https://localhost:8080/",
          "height": 621
        },
        "outputId": "bb770982-214c-4d4d-ead3-6d68d7b61a03"
      },
      "source": [
        "Nf=3          #Numero de fases\n",
        "Ng=1          #Numero de guardas\n",
        "n=Nf+Ng\n",
        "Z=np.zeros((n,n))     #definición de la matriz Z\n",
        "D=np.zeros((n,n)) \n",
        "Dprime=np.zeros((n,n)) \n",
        "\n",
        "Z=Z.astype(complex)       \n",
        " \n",
        "ro=100            #Resistividad del terreno\n",
        "f=60              #Frecuencia de la red\n",
        " \n",
        "Dist=658.5*np.sqrt(ro/f)      #Distancia imagen\n",
        "Rprime=9.896*10**(-4)*f       #Resistencia mutua (debido a conductores imagen)\n",
        " \n",
        "\n",
        " \n",
        "\n",
        "#Coordenadas de los conductores:\n",
        "Fases=np.zeros((n*3,2))\n",
        "\n",
        "Fases[0]=(1.1,19)            #posición conductor a\n",
        "Fases[1]=(1.1,16.5)       #posición conductor b\n",
        "Fases[2]=(1.1,14)        #posición conductor b\n",
        "Fases[3]=(0,21)        #posición guarda 1 \n",
        "\n",
        "\n",
        "for i in range(n,2*n):\n",
        "  Fases[i,0]=Fases[i-n,0]\n",
        "  Fases[i,1]=Fases[i-n,1]-Dist\n",
        "\n",
        "RMGfase=0.0062484               #RMG FASE\n",
        "RMGguarda=0.00475          #Radio cable de guarda *0.7788\n",
        "\n",
        "Dpropia=(RMGfase,RMGfase,RMGfase,RMGguarda)\n",
        "\n",
        "for i in range (0,n):\n",
        "  for j in range(0,n): \n",
        "    if (j==i):\n",
        "      D[i,j]=Dpropia[i]           #Distancias entre cables aéreos\n",
        "    else:\n",
        "      D[i,j]=np.sqrt((Fases[i,0]-Fases[j,0])**2+(Fases[i,1]-Fases[j,1])**2)\n",
        "\n",
        "\n",
        "\n",
        "for i in range (0,n):\n",
        "  for j in range(0,n): \n",
        "    if (j==i):            #Distancias entre cables aéreos y cables virtuales\n",
        "      Dprime[i,j]=Dist\n",
        "    else:\n",
        "      Dprime[i,j]=np.sqrt((Fases[i,0]-Fases[j+n,0])**2+(Fases[i,1]-Fases[j+n,1])**2)\n",
        "\n",
        "\n",
        " \n",
        " \n",
        "Rfase=0.2622      #Resistencia en ohms por kilómetro determinada previamente \n",
        "Rguarda=0.5142      #Resistencia en ohms por km para los cables de guarda\n",
        " \n",
        "Rk=np.array((Rfase,Rfase,Rfase,Rguarda))  #Vector de resistencias de 3 fases y dos retornos\n",
        " \n",
        "\n",
        "\n",
        "\n",
        "plt.figure(figsize=(8,3))\n",
        "plt.plot(Fases[0:n,0],Fases[0:n,1],'o')\n",
        "plt.title('Fases y guardas')\n",
        "plt.grid()\n",
        "\n",
        "plt.figure(figsize=(8,3))\n",
        "plt.plot(Fases[n:2*n,0],Fases[n:2*n,1],'o')\n",
        "plt.title('Fases y guardas imagen')\n",
        "plt.grid()\n",
        "\n",
        "print('D=',D)\n",
        "print('Dprime=',Dprime)\n",
        "print('Dist',Dist)\n",
        "print('Rprime=',Rprime)\n"
      ],
      "execution_count": null,
      "outputs": [
        {
          "output_type": "stream",
          "text": [
            "D= [[6.24840000e-03 2.50000000e+00 5.00000000e+00 2.28254244e+00]\n",
            " [2.50000000e+00 6.24840000e-03 2.50000000e+00 4.63249393e+00]\n",
            " [5.00000000e+00 2.50000000e+00 6.24840000e-03 7.08590150e+00]\n",
            " [2.28254244e+00 4.63249393e+00 7.08590150e+00 4.75000000e-03]]\n",
            "Dprime= [[850.11984449 852.61984449 855.11984449 848.12055783]\n",
            " [847.61984449 850.11984449 852.61984449 845.62055994]\n",
            " [845.11984449 847.61984449 850.11984449 843.12056207]\n",
            " [852.12055449 854.62055241 857.12055034 850.11984449]]\n",
            "Dist 850.1198444925279\n",
            "Rprime= 0.05937600000000001\n"
          ],
          "name": "stdout"
        },
        {
          "output_type": "display_data",
          "data": {
            "image/png": "[encoded data removed]",
            "text/plain": [
              "<Figure size 576x216 with 1 Axes>"
            ]
          },
          "metadata": {
            "tags": [],
            "needs_background": "light"
          }
        },
        {
          "output_type": "display_data",
          "data": {
            "image/png": "[encoded data removed]",
            "text/plain": [
              "<Figure size 576x216 with 1 Axes>"
            ]
          },
          "metadata": {
            "tags": [],
            "needs_background": "light"
          }
        }
      ]
    },
    {
      "cell_type": "code",
      "metadata": {
        "id": "kCH3WQKVxxEh",
        "colab": {
          "base_uri": "https://localhost:8080/"
        },
        "outputId": "0f9a5815-9cc1-4de8-f448-3fbe61cccbdd"
      },
      "source": [
        "for i in range(0,n):\n",
        "  for j in range(0,n):\n",
        "    if (j==i):\n",
        "      Z[i,j]=complex(Rk[i]+Rprime,4*np.pi*f*10**(-4)*np.log(Dist/D[i,j])) #Llenado de diagonal      \n",
        "    else:               \n",
        "      Z[i,j]=complex(Rprime,4*np.pi*f*10**(-4)*np.log(Dist/D[i,j]))  #Llenado de no diagonal\n",
        "Z"
      ],
      "execution_count": null,
      "outputs": [
        {
          "output_type": "execute_result",
          "data": {
            "text/plain": [
              "array([[0.321576+0.89126786j, 0.059376+0.43950278j, 0.059376+0.38724071j,\n",
              "        0.059376+0.44636407j],\n",
              "       [0.059376+0.43950278j, 0.321576+0.89126786j, 0.059376+0.43950278j,\n",
              "        0.059376+0.3929968j ],\n",
              "       [0.059376+0.38724071j, 0.059376+0.43950278j, 0.321576+0.89126786j,\n",
              "        0.059376+0.36095167j],\n",
              "       [0.059376+0.44636407j, 0.059376+0.3929968j , 0.059376+0.36095167j,\n",
              "        0.573576+0.91194061j]])"
            ]
          },
          "metadata": {
            "tags": []
          },
          "execution_count": 17
        }
      ]
    },
    {
      "cell_type": "code",
      "metadata": {
        "id": "vTboD9hx_gE6",
        "colab": {
          "base_uri": "https://localhost:8080/"
        },
        "outputId": "7b91ab12-ca2f-44a1-eccc-cc0bb2a9e4dc"
      },
      "source": [
        "ZA=Z[0:Nf,0:Nf]\n",
        "ZB=Z[0:Nf,Nf:n]         #Agrupamiento de matricez A,B,C y D\n",
        "ZC=Z[Nf:n,0:Nf]\n",
        "ZD=Z[Nf:n,Nf:n]\n",
        "\n",
        "\n",
        "print('ZA=')\n",
        "print(ZA)\n",
        "print('ZB=')\n",
        "print(ZB)\n",
        "print('ZC=')\n",
        "print(ZC)\n",
        "print('ZD=')\n",
        "print(ZD)"
      ],
      "execution_count": null,
      "outputs": [
        {
          "output_type": "stream",
          "text": [
            "ZA=\n",
            "[[0.321576+0.89126786j 0.059376+0.43950278j 0.059376+0.38724071j]\n",
            " [0.059376+0.43950278j 0.321576+0.89126786j 0.059376+0.43950278j]\n",
            " [0.059376+0.38724071j 0.059376+0.43950278j 0.321576+0.89126786j]]\n",
            "ZB=\n",
            "[[0.059376+0.44636407j]\n",
            " [0.059376+0.3929968j ]\n",
            " [0.059376+0.36095167j]]\n",
            "ZC=\n",
            "[[0.059376+0.44636407j 0.059376+0.3929968j  0.059376+0.36095167j]]\n",
            "ZD=\n",
            "[[0.573576+0.91194061j]]\n"
          ],
          "name": "stdout"
        }
      ]
    },
    {
      "cell_type": "code",
      "metadata": {
        "id": "gOKc6s9LNeWx",
        "colab": {
          "base_uri": "https://localhost:8080/"
        },
        "outputId": "625e780e-d3c7-4420-be6d-b9dfd6baa9e8"
      },
      "source": [
        "Zp=ZA-ZB@np.linalg.inv(ZD)@ZC     #Obtención de Matriz Zp (ecuación 4.7.19)\n",
        "print('Zp parte real')\n",
        "print(Zp.real)\n",
        "print('Zp parte imaginaria')\n",
        "print(Zp.imag)"
      ],
      "execution_count": null,
      "outputs": [
        {
          "output_type": "stream",
          "text": [
            "Zp parte real\n",
            "[[0.37664869 0.10516612 0.09959226]\n",
            " [0.10516612 0.35949104 0.09256235]\n",
            " [0.09959226 0.09256235 0.35054113]]\n",
            "Zp parte imaginaria\n",
            "[[0.71129232 0.27981032 0.23972752]\n",
            " [0.27981032 0.74962068 0.30869113]\n",
            " [0.23972752 0.30869113 0.77048489]]\n"
          ],
          "name": "stdout"
        }
      ]
    },
    {
      "cell_type": "code",
      "metadata": {
        "id": "Z0isNKNRRRcO",
        "colab": {
          "base_uri": "https://localhost:8080/"
        },
        "outputId": "979dffa1-696a-4606-e147-48d996609d1d"
      },
      "source": [
        "Zphat=Zp       #Matriz equivalente con transposición (Z gorro)\n",
        "     \n",
        "\n",
        "meandiag=1/3*(Zp[0,0]+Zp[1,1]+Zp[2,2])   #promedio de la diagonal\n",
        "mean=1/3*(Zp[1,0]+Zp[2,0]+Zp[2,1])      #promedio del triángulo inferior \n",
        "\n",
        "for i in range(0,3):\n",
        "  for j in range(0,3):\n",
        "    if (j==i):\n",
        "      Zphat[i,j]=meandiag\n",
        "    else:\n",
        "      Zphat[i,j]=mean\n",
        "\n",
        "Zphat"
      ],
      "execution_count": null,
      "outputs": [
        {
          "output_type": "execute_result",
          "data": {
            "text/plain": [
              "array([[0.36222696+0.7437993j , 0.09910691+0.27607633j,\n",
              "        0.09910691+0.27607633j],\n",
              "       [0.09910691+0.27607633j, 0.36222696+0.7437993j ,\n",
              "        0.09910691+0.27607633j],\n",
              "       [0.09910691+0.27607633j, 0.09910691+0.27607633j,\n",
              "        0.36222696+0.7437993j ]])"
            ]
          },
          "metadata": {
            "tags": []
          },
          "execution_count": 20
        }
      ]
    },
    {
      "cell_type": "code",
      "metadata": {
        "id": "bOjagTdX0iu0",
        "colab": {
          "base_uri": "https://localhost:8080/",
          "height": 647
        },
        "outputId": "0725b083-1f66-4873-e719-b87102c841ba"
      },
      "source": [
        "epsilon=8.85*10**(-12)\n",
        "P=np.zeros((n,n))               #Matriz P\n",
        "H=np.zeros((n,n))               #Matriz de distancias H\n",
        "\n",
        "\n",
        "for i in range(2*n,3*n):\n",
        "  Fases[i,1]=-Fases[i-2*n,1]\n",
        "  Fases[i,0]=Fases[i-2*n,0]\n",
        "\n",
        "\n",
        "for i in range(0,n):\n",
        "  for j in range(0,n):\n",
        "    H[i,j]=np.sqrt((Fases[i,0]-Fases[j+2*n,0])**2+(Fases[i,1]-Fases[j+2*n,1])**2)\n",
        "\n",
        " \n",
        "\n",
        "for i in range(0,n):\n",
        "  for j in range(0,n):\n",
        "    P[i,j]=1/(2*np.pi*epsilon)*np.log(H[i,j]/D[i,j])/1000\n",
        "    \n",
        "\n",
        "plt.figure(figsize=(14,6))\n",
        "plt.plot(Fases[0:n,0],Fases[0:n,1],'o')\n",
        "plt.title('Fases y guardas aéreas y espejo')\n",
        "plt.grid()\n",
        "plt.plot(Fases[2*n:3*n,0],Fases[2*n:3*n,1],'o')\n",
        "plt.hlines(0,-2,2)\n",
        "\n",
        "print('H',H)\n",
        "print(' ')\n",
        "print('P',P)\n",
        "print(' ')\n",
        "print('D',D)"
      ],
      "execution_count": null,
      "outputs": [
        {
          "output_type": "stream",
          "text": [
            "H [[38.         35.5        33.         40.01512214]\n",
            " [35.5        33.         30.5        37.51612986]\n",
            " [33.         30.5        28.         35.01728145]\n",
            " [40.01512214 37.51612986 35.01728145 42.        ]]\n",
            " \n",
            "P [[1.56691476e+08 4.77148671e+07 3.39363235e+07 5.15044730e+07]\n",
            " [4.77148671e+07 1.54154374e+08 4.49848471e+07 3.76158770e+07]\n",
            " [3.39363235e+07 4.49848471e+07 1.51199612e+08 2.87330348e+07]\n",
            " [5.15044730e+07 3.76158770e+07 2.87330348e+07 1.63422099e+08]]\n",
            " \n",
            "D [[6.24840000e-03 2.50000000e+00 5.00000000e+00 2.28254244e+00]\n",
            " [2.50000000e+00 6.24840000e-03 2.50000000e+00 4.63249393e+00]\n",
            " [5.00000000e+00 2.50000000e+00 6.24840000e-03 7.08590150e+00]\n",
            " [2.28254244e+00 4.63249393e+00 7.08590150e+00 4.75000000e-03]]\n"
          ],
          "name": "stdout"
        },
        {
          "output_type": "display_data",
          "data": {
            "image/png": "[encoded data removed]",
            "text/plain": [
              "<Figure size 1008x432 with 1 Axes>"
            ]
          },
          "metadata": {
            "tags": [],
            "needs_background": "light"
          }
        }
      ]
    },
    {
      "cell_type": "code",
      "metadata": {
        "id": "d0S-qv3x-xZ2",
        "colab": {
          "base_uri": "https://localhost:8080/"
        },
        "outputId": "0ac5ac08-ee5b-4e03-ee64-c6c3af4e9962"
      },
      "source": [
        "PA=P[0:Nf,0:Nf]\n",
        "PB=P[0:Nf,Nf:n]         #Agrupamiento de matrices A,B,C y D\n",
        "PC=P[Nf:n,0:Nf]\n",
        "PD=P[Nf:n,Nf:n]\n",
        "\n",
        "\n",
        "print('PA=')\n",
        "print(PA)\n",
        "print('PB=')\n",
        "print(PB)\n",
        "print('PC=')\n",
        "print(PC)\n",
        "print('PD=')\n",
        "print(PD)"
      ],
      "execution_count": null,
      "outputs": [
        {
          "output_type": "stream",
          "text": [
            "PA=\n",
            "[[1.56691476e+08 4.77148671e+07 3.39363235e+07]\n",
            " [4.77148671e+07 1.54154374e+08 4.49848471e+07]\n",
            " [3.39363235e+07 4.49848471e+07 1.51199612e+08]]\n",
            "PB=\n",
            "[[51504472.97225708]\n",
            " [37615876.98771803]\n",
            " [28733034.77844017]]\n",
            "PC=\n",
            "[[51504472.97225708 37615876.98771803 28733034.77844017]]\n",
            "PD=\n",
            "[[1.63422099e+08]]\n"
          ],
          "name": "stdout"
        }
      ]
    },
    {
      "cell_type": "code",
      "metadata": {
        "id": "rFJm4VjJ_4lp",
        "colab": {
          "base_uri": "https://localhost:8080/"
        },
        "outputId": "b6453e51-9185-48db-d371-26a321a15f64"
      },
      "source": [
        "Cp=np.linalg.inv(PA-PB@np.linalg.inv(PD)@PC)\n",
        "Cp"
      ],
      "execution_count": null,
      "outputs": [
        {
          "output_type": "execute_result",
          "data": {
            "text/plain": [
              "array([[ 7.69987649e-09, -1.66750675e-09, -8.73051721e-10],\n",
              "       [-1.66750675e-09,  7.74546006e-09, -1.74969288e-09],\n",
              "       [-8.73051721e-10, -1.74969288e-09,  7.45040578e-09]])"
            ]
          },
          "metadata": {
            "tags": []
          },
          "execution_count": 23
        }
      ]
    },
    {
      "cell_type": "code",
      "metadata": {
        "id": "9NkKTD3DAKT4",
        "colab": {
          "base_uri": "https://localhost:8080/"
        },
        "outputId": "58bd8662-c83d-4896-d0d0-d0f20f934007"
      },
      "source": [
        "\n",
        "Cphat=np.zeros((3,3))       #MatriP equivalente con transposición \n",
        "     \n",
        "\n",
        "meandiagC=1/3*(Cp[0,0]+Cp[1,1]+Cp[2,2])   #promedio de la diagonal\n",
        "meanC=1/3*(Cp[1,0]+Cp[2,0]+Cp[2,1])      #promedio del triángulo inferior \n",
        "\n",
        "for i in range(0,3):\n",
        "  for j in range(0,3):\n",
        "    if (j==i):\n",
        "      Cphat[i,j]=meandiagC\n",
        "    else:\n",
        "      Cphat[i,j]=meanC\n",
        "\n",
        "Cphat"
      ],
      "execution_count": null,
      "outputs": [
        {
          "output_type": "execute_result",
          "data": {
            "text/plain": [
              "array([[ 7.63191411e-09, -1.43008378e-09, -1.43008378e-09],\n",
              "       [-1.43008378e-09,  7.63191411e-09, -1.43008378e-09],\n",
              "       [-1.43008378e-09, -1.43008378e-09,  7.63191411e-09]])"
            ]
          },
          "metadata": {
            "tags": []
          },
          "execution_count": 24
        }
      ]
    },
    {
      "cell_type": "code",
      "metadata": {
        "id": "iDDXgSgWA4mp",
        "colab": {
          "base_uri": "https://localhost:8080/"
        },
        "outputId": "24598211-d5a6-4f32-c3ed-e546452ace66"
      },
      "source": [
        "Yp=2*np.pi*f*Cp*complex(0,1)\n",
        "\n",
        "\n",
        "Yphat=2*np.pi*f*Cphat*complex(0,1)\n",
        "\n",
        "print('Yp')\n",
        "print(Yp)\n",
        "print('Ypgorro')\n",
        "print(Yphat)\n"
      ],
      "execution_count": null,
      "outputs": [
        {
          "output_type": "stream",
          "text": [
            "Yp\n",
            "[[ 0.+2.90278505e-06j -0.-6.28635233e-07j -0.-3.29132745e-07j]\n",
            " [-0.-6.28635233e-07j  0.+2.91996965e-06j -0.-6.59618676e-07j]\n",
            " [-0.-3.29132745e-07j -0.-6.59618676e-07j  0.+2.80873681e-06j]]\n",
            "Ypgorro\n",
            "[[ 0.+2.87716384e-06j -0.-5.39128885e-07j -0.-5.39128885e-07j]\n",
            " [-0.-5.39128885e-07j  0.+2.87716384e-06j -0.-5.39128885e-07j]\n",
            " [-0.-5.39128885e-07j -0.-5.39128885e-07j  0.+2.87716384e-06j]]\n"
          ],
          "name": "stdout"
        }
      ]
    },
    {
      "cell_type": "code",
      "metadata": {
        "id": "H-Y09TGgXyS5",
        "colab": {
          "base_uri": "https://localhost:8080/"
        },
        "outputId": "4ff853e6-b09f-4d1a-e6d9-ae3a339c9420"
      },
      "source": [
        "#Comparación con atp \n",
        "\n",
        "Z_p_atp=np.array([[complex(3.384574E-01,5.018261E-01),complex(1.508894E-01,2.362036E-01),complex(1.508894E-01,2.362036E-01)],\n",
        "                  [complex(1.508894E-01 ,2.362036E-01),complex(3.085068E-01,5.299845E-01),complex(1.363323E-01,2.043248E-01)],\n",
        "                  [complex(1.508894E-01,2.362036E-01),complex(1.363323E-01,2.043248E-01),complex(3.085068E-01,5.299845E-01)]])\n",
        "errorz=(Z_p_atp- Zp)/Z_p_atp*100\n",
        "print('Porcentajes de error, matriz Z, parte real: ')\n",
        "print(np.abs(errorz.real))\n",
        "print('Porcentajes de error, matriz Z, parte imaginaria: ')\n",
        "print(np.abs(errorz.imag))\n",
        "\n",
        "print(' ')\n",
        "\n",
        "Y_p_atp=np.array([[2.807826E-06,-2.974273E-07,-2.974273E-07], \n",
        "                  [-2.974273E-07,2.662977E-06,-1.362939E-07],\n",
        "                  [-2.974273E-07,-1.362939E-07,2.662977E-06]])\n",
        "\n",
        "errory=(Y_p_atp- Yp.imag)/Y_p_atp*100\n",
        "print('Porcentajes de error, matriz de capacitancias: ')\n",
        "print(np.abs(errory.real))"
      ],
      "execution_count": null,
      "outputs": [
        {
          "output_type": "stream",
          "text": [
            "Porcentajes de error, matriz Z, parte real: \n",
            "[[35.33829451  2.04258808  2.04258808]\n",
            " [ 2.04258808 34.54011532 15.88725236]\n",
            " [ 2.04258808 15.88725236 34.54011532]]\n",
            "Porcentajes de error, matriz Z, parte imaginaria: \n",
            "[[19.0973561  23.22764789 23.22764789]\n",
            " [23.22764789  9.96981025 28.8192369 ]\n",
            " [23.22764789 28.8192369   9.96981025]]\n",
            " \n",
            "Porcentajes de error, matriz de capacitancias: \n",
            "[[  3.38194214 111.35761025  10.65989725]\n",
            " [111.35761025   9.65057713 383.96786359]\n",
            " [ 10.65989725 383.96786359   5.47356612]]\n"
          ],
          "name": "stdout"
        }
      ]
    },
    {
      "cell_type": "code",
      "metadata": {
        "id": "ozhQsY8cYDBb",
        "colab": {
          "base_uri": "https://localhost:8080/"
        },
        "outputId": "dafb63cf-620c-43f3-949d-c8aaee180ead"
      },
      "source": [
        "a=complex(-0.5,np.sqrt(3)/2)\n",
        "T=np.array([[1,1,1],[1,a**2,a],[1,a,a**2]])\n",
        "Z_sec=np.linalg.inv(T)@Zp@T\n",
        "print('Parte real: \\n',Z_sec.real)\n",
        "print('Parte imaginaria: \\n',Z_sec.imag)"
      ],
      "execution_count": null,
      "outputs": [
        {
          "output_type": "stream",
          "text": [
            "Parte real: \n",
            " [[ 5.60440772e-01 -1.46015861e-17 -6.29130230e-18]\n",
            " [ 2.77555756e-17  2.63120047e-01  2.77555756e-17]\n",
            " [-5.55111512e-17  2.77555756e-17  2.63120047e-01]]\n",
            "Parte imaginaria: \n",
            " [[ 1.29595195e+00  1.00010046e-16  1.14483265e-16]\n",
            " [-2.77555756e-17  4.67722975e-01 -2.77555756e-17]\n",
            " [-2.77555756e-17 -5.55111512e-17  4.67722975e-01]]\n"
          ],
          "name": "stdout"
        }
      ]
    },
    {
      "cell_type": "code",
      "metadata": {
        "id": "DEDh2bw56EOM",
        "colab": {
          "base_uri": "https://localhost:8080/"
        },
        "outputId": "87c9045d-e156-48dd-d021-0983527582e8"
      },
      "source": [
        "a=complex(-0.5,np.sqrt(3)/2)\n",
        "T=np.array([[1,1,1],[1,a**2,a],[1,a,a**2]])\n",
        "Y_sec=np.linalg.inv(T)@Yp@T\n",
        "print('Parte real: \\n',Y_sec.real)\n",
        "print('Parte imaginaria: \\n',Y_sec.imag)"
      ],
      "execution_count": null,
      "outputs": [
        {
          "output_type": "stream",
          "text": [
            "Parte real: \n",
            " [[ 0.00000000e+00 -5.43487655e-08  5.43487655e-08]\n",
            " [ 5.43487655e-08 -2.24993127e-22  2.05027998e-07]\n",
            " [-5.43487655e-08 -2.05027998e-07  1.05879118e-22]]\n",
            "Parte imaginaria: \n",
            " [[ 1.79890607e-06  7.30555032e-08  7.30555032e-08]\n",
            " [ 7.30555032e-08  3.41629272e-06 -1.07679184e-07]\n",
            " [ 7.30555032e-08 -1.07679184e-07  3.41629272e-06]]\n"
          ],
          "name": "stdout"
        }
      ]
    },
    {
      "cell_type": "code",
      "metadata": {
        "id": "vGEmlY47Dmg6"
      },
      "source": [
        "  "
      ],
      "execution_count": null,
      "outputs": []
    }
  ]
}